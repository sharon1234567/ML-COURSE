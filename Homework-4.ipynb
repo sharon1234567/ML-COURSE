{
 "cells": [
  {
   "cell_type": "markdown",
   "metadata": {},
   "source": [
    "# Preparation : Decoration"
   ]
  },
  {
   "cell_type": "code",
   "execution_count": 187,
   "metadata": {},
   "outputs": [],
   "source": [
    "import time\n",
    "def func_l(n):\n",
    "    for i in range(n):\n",
    "        print (n)\n",
    "\n",
    "def call_time(func_l, arg):\n",
    "    start = time.time()\n",
    "    func_l(arg)\n",
    "    print('used time:{}'.format(time.time()-start))"
   ]
  },
  {
   "cell_type": "code",
   "execution_count": 188,
   "metadata": {},
   "outputs": [
    {
     "name": "stdout",
     "output_type": "stream",
     "text": [
      "10\n",
      "10\n",
      "10\n",
      "10\n",
      "10\n",
      "10\n",
      "10\n",
      "10\n",
      "10\n",
      "10\n",
      "used time:0.0\n"
     ]
    }
   ],
   "source": [
    "call_time(func_l, 10)"
   ]
  },
  {
   "cell_type": "code",
   "execution_count": 202,
   "metadata": {},
   "outputs": [],
   "source": [
    "from collections import defaultdict\n",
    "\n",
    "from functools import wraps\n",
    "\n",
    "function_called_time = defaultdict(int)\n",
    "\n",
    "def get_call_time(func):\n",
    "    @wraps(func)  #keep the informatioin inside func\n",
    "    def _inner(arg):\n",
    "        function_called_time[func.__name__] +=1\n",
    "        result = func(arg)\n",
    "        print('function called time is:{}'.format(function_called_time[func.__name__]))\n",
    "        return result\n",
    "    return _inner\n",
    "        "
   ]
  },
  {
   "cell_type": "code",
   "execution_count": 203,
   "metadata": {},
   "outputs": [
    {
     "name": "stdout",
     "output_type": "stream",
     "text": [
      "10\n",
      "10\n",
      "10\n",
      "10\n",
      "10\n",
      "10\n",
      "10\n",
      "10\n",
      "10\n",
      "10\n",
      "function called time is:1\n",
      "function called time is:1\n"
     ]
    }
   ],
   "source": [
    "func_l = get_call_time(func_l)\n",
    "func_l(10)"
   ]
  },
  {
   "cell_type": "code",
   "execution_count": 204,
   "metadata": {},
   "outputs": [],
   "source": [
    "@get_call_time\n",
    "def func_l(n):\n",
    "    \"\"\"\n",
    "    @param n: is the number of customers\n",
    "    @return int: the customers value point\n",
    "    \"\"\"\n",
    "    for i in range(n):\n",
    "        print (n)"
   ]
  },
  {
   "cell_type": "code",
   "execution_count": 200,
   "metadata": {},
   "outputs": [
    {
     "name": "stdout",
     "output_type": "stream",
     "text": [
      "10\n",
      "10\n",
      "10\n",
      "10\n",
      "10\n",
      "10\n",
      "10\n",
      "10\n",
      "10\n",
      "10\n",
      "function called time is:4\n"
     ]
    }
   ],
   "source": [
    "func_l(10)"
   ]
  },
  {
   "cell_type": "code",
   "execution_count": 201,
   "metadata": {},
   "outputs": [
    {
     "name": "stdout",
     "output_type": "stream",
     "text": [
      "Help on function _inner in module __main__:\n",
      "\n",
      "_inner(arg)\n",
      "\n"
     ]
    }
   ],
   "source": [
    "help(func_l)  #without @wrap"
   ]
  },
  {
   "cell_type": "code",
   "execution_count": 205,
   "metadata": {},
   "outputs": [
    {
     "name": "stdout",
     "output_type": "stream",
     "text": [
      "Help on function func_l in module __main__:\n",
      "\n",
      "func_l(n)\n",
      "    @param n: is the number of customers\n",
      "    @return int: the customers value point\n",
      "\n"
     ]
    }
   ],
   "source": [
    "help(func_l)  #with @wrap"
   ]
  },
  {
   "cell_type": "markdown",
   "metadata": {},
   "source": [
    "# Dynamic Programming for rob cutting"
   ]
  },
  {
   "attachments": {
    "image.png": {
     "image/png": "[encoded data removed]"
    }
   },
   "cell_type": "markdown",
   "metadata": {},
   "source": [
    "Dynamic programming solves problems by combining the solutions to subproblems. A dynamic-programming algorithm solves each subsubproblem just once and then saves its answer in a table, thereby avoiding the work of recomputing the answer every time it solves each subsubproblem.\n",
    "\n",
    "The rod-cutting problem is the following. Given a rod of length n inches and a\n",
    "table of prices $Pi$  for $i= 1,2.....n$, determine the maximum revenue rn  obtain-able by cutting up the rod and selling the pieces. Note that if the price pn for a rod of length n is large enough, an optimal solution may require no cutting at all.<p>\n",
    "![image.png](attachment:image.png)"
   ]
  },
  {
   "cell_type": "code",
   "execution_count": 4,
   "metadata": {},
   "outputs": [],
   "source": [
    "from collections import defaultdict\n",
    "\n",
    "original_price = [1,5,8,9,10,17,17,20,24,30]\n",
    "price = defaultdict(int)\n",
    "for i, p in enumerate(original_price):\n",
    "    price[i+1] = p"
   ]
  },
  {
   "cell_type": "code",
   "execution_count": 5,
   "metadata": {},
   "outputs": [
    {
     "data": {
      "text/plain": [
       "defaultdict(int,\n",
       "            {1: 1,\n",
       "             2: 5,\n",
       "             3: 8,\n",
       "             4: 9,\n",
       "             5: 10,\n",
       "             6: 17,\n",
       "             7: 17,\n",
       "             8: 20,\n",
       "             9: 24,\n",
       "             10: 30})"
      ]
     },
     "execution_count": 5,
     "metadata": {},
     "output_type": "execute_result"
    }
   ],
   "source": [
    "price"
   ]
  },
  {
   "cell_type": "code",
   "execution_count": 42,
   "metadata": {},
   "outputs": [],
   "source": [
    "from functools import wraps\n",
    "def memo(func):\n",
    "    cache = {}\n",
    "    @wraps(func)\n",
    "    def _wrap(n):\n",
    "        if n in cache: result = cache[n]\n",
    "        else:\n",
    "            result = func(n)\n",
    "            cache[n] = result\n",
    "        #print(cache)\n",
    "        return result\n",
    "    return _wrap\n",
    "\n",
    "solution = {}   #定义在函数外，递归函数每次调用本身时，其值会累计\n",
    "\n",
    "@memo\n",
    "def r(n):\n",
    "    max_price, split_point = max(\n",
    "        [(price[n],0)] + [(r(i) + r(n-i),i) for i in range(1,n)], key = lambda x:x[0]\n",
    "    )\n",
    "    solution[n] = (split_point, n-split_point)\n",
    "    return max_price"
   ]
  },
  {
   "cell_type": "code",
   "execution_count": 52,
   "metadata": {},
   "outputs": [
    {
     "data": {
      "text/plain": [
       "73"
      ]
     },
     "execution_count": 52,
     "metadata": {},
     "output_type": "execute_result"
    }
   ],
   "source": [
    "r(25)"
   ]
  },
  {
   "cell_type": "code",
   "execution_count": 53,
   "metadata": {},
   "outputs": [
    {
     "data": {
      "text/plain": [
       "(2, 23)"
      ]
     },
     "execution_count": 53,
     "metadata": {},
     "output_type": "execute_result"
    }
   ],
   "source": [
    "solution[25]"
   ]
  },
  {
   "cell_type": "code",
   "execution_count": 77,
   "metadata": {},
   "outputs": [
    {
     "data": {
      "text/plain": [
       "{1: (0, 1),\n",
       " 2: (0, 2),\n",
       " 3: (0, 3),\n",
       " 4: (2, 2),\n",
       " 5: (2, 3),\n",
       " 6: (0, 6),\n",
       " 7: (1, 6),\n",
       " 8: (2, 6),\n",
       " 9: (3, 6),\n",
       " 10: (0, 10),\n",
       " 11: (1, 10),\n",
       " 12: (2, 10),\n",
       " 13: (3, 10),\n",
       " 14: (2, 12),\n",
       " 15: (2, 13),\n",
       " 16: (6, 10),\n",
       " 17: (1, 16),\n",
       " 18: (2, 16),\n",
       " 19: (3, 16),\n",
       " 20: (10, 10),\n",
       " 21: (1, 20),\n",
       " 22: (2, 20),\n",
       " 23: (3, 20),\n",
       " 24: (2, 22),\n",
       " 25: (2, 23)}"
      ]
     },
     "execution_count": 77,
     "metadata": {},
     "output_type": "execute_result"
    }
   ],
   "source": [
    "solution"
   ]
  },
  {
   "cell_type": "code",
   "execution_count": 78,
   "metadata": {},
   "outputs": [],
   "source": [
    "def not_cut(split): return split==0\n",
    "\n",
    "def parse_solution(n,solution):\n",
    "    point_list = []\n",
    "    p1,p2 = solution[n]\n",
    "    \n",
    "    if not_cut(p1): return [p2]\n",
    "    \n",
    "    return parse_solution(p1, solution) + parse_solution(p2, solution)\n",
    "    "
   ]
  },
  {
   "cell_type": "code",
   "execution_count": 79,
   "metadata": {},
   "outputs": [
    {
     "data": {
      "text/plain": [
       "[2, 3, 10, 10]"
      ]
     },
     "execution_count": 79,
     "metadata": {},
     "output_type": "execute_result"
    }
   ],
   "source": [
    "parse_solution(25, solution)"
   ]
  },
  {
   "cell_type": "markdown",
   "metadata": {},
   "source": [
    "# Dynamic Programming for minimum Edit Distance"
   ]
  },
  {
   "attachments": {
    "image.png": {
     "image/png": "[encoded data removed]"
    }
   },
   "cell_type": "markdown",
   "metadata": {},
   "source": [
    "The minimum edit distance between two strings is the minimum number of editing oprations: <p>\n",
    "*-Insertion* <p>\n",
    "*-Deletion*  <p>\n",
    "*-Substitution* <p>\n",
    "needed to transform one into another.<p>\n",
    "The cost of insertion and deletion is 1, substitution is 2.<p> \n",
    "    ![image.png](attachment:image.png)\n"
   ]
  },
  {
   "cell_type": "code",
   "execution_count": 173,
   "metadata": {},
   "outputs": [],
   "source": [
    "from functools import lru_cache\n",
    "\n",
    "solution ={}\n",
    "\n",
    "@lru_cache(maxsize = 2**10)\n",
    "def edit_distance(string1,string2):\n",
    "    if len(string1)==0: return len(string2)\n",
    "    if len(string2)==0: return len(string1)\n",
    "    \n",
    "    tail_s1 = string1[-1]\n",
    "    tail_s2 = string2[-1]\n",
    "    \n",
    "    DEL = (edit_distance(string1[:-1],string2) + 1, 'DEL {}'.format(tail_s1))\n",
    "    INS = (edit_distance(string1, string2[:-1]) + 1, 'ADD {}'.format(tail_s2))\n",
    "    \n",
    "    if tail_s1 == tail_s2: \n",
    "        SUB = (edit_distance(string1[:-1], string2[:-1]), 'None')\n",
    "    else:\n",
    "        SUB = (edit_distance(string1[:-1], string2[:-1]) + 2, 'SUB {}=>{}'.format(tail_s1, tail_s2))\n",
    "    \n",
    "    distance, operation = min( SUB, DEL, INS, key = lambda x: x[0]) # 由于SUB可由ADD和DEL组合而成，当SUB至于最后一位时，它将被前两者的组合代替\n",
    "    #print(distance, operation)\n",
    "    \n",
    "    solution[(string1, string2)] = operation\n",
    "    \n",
    "    return distance"
   ]
  },
  {
   "cell_type": "code",
   "execution_count": 176,
   "metadata": {},
   "outputs": [
    {
     "data": {
      "text/plain": [
       "5"
      ]
     },
     "execution_count": 176,
     "metadata": {},
     "output_type": "execute_result"
    }
   ],
   "source": [
    "edit_distance('beijing','biejie')"
   ]
  },
  {
   "cell_type": "code",
   "execution_count": 177,
   "metadata": {},
   "outputs": [
    {
     "data": {
      "text/plain": [
       "{('b', 'b'): 'None',\n",
       " ('b', 'bi'): 'ADD i',\n",
       " ('b', 'bie'): 'ADD e',\n",
       " ('b', 'biej'): 'ADD j',\n",
       " ('b', 'bieji'): 'ADD i',\n",
       " ('b', 'biejie'): 'ADD e',\n",
       " ('be', 'b'): 'DEL e',\n",
       " ('be', 'bi'): 'SUB e=>i',\n",
       " ('be', 'bie'): 'None',\n",
       " ('be', 'biej'): 'ADD j',\n",
       " ('be', 'bieji'): 'ADD i',\n",
       " ('be', 'biejie'): 'None',\n",
       " ('bei', 'b'): 'DEL i',\n",
       " ('bei', 'bi'): 'None',\n",
       " ('bei', 'bie'): 'DEL i',\n",
       " ('bei', 'biej'): 'SUB i=>j',\n",
       " ('bei', 'bieji'): 'None',\n",
       " ('bei', 'biejie'): 'ADD e',\n",
       " ('beij', 'b'): 'DEL j',\n",
       " ('beij', 'bi'): 'DEL j',\n",
       " ('beij', 'bie'): 'SUB j=>e',\n",
       " ('beij', 'biej'): 'None',\n",
       " ('beij', 'bieji'): 'DEL j',\n",
       " ('beij', 'biejie'): 'SUB j=>e',\n",
       " ('beiji', 'b'): 'DEL i',\n",
       " ('beiji', 'bi'): 'None',\n",
       " ('beiji', 'bie'): 'SUB i=>e',\n",
       " ('beiji', 'biej'): 'DEL i',\n",
       " ('beiji', 'bieji'): 'None',\n",
       " ('beiji', 'biejie'): 'ADD e',\n",
       " ('beijin', 'b'): 'DEL n',\n",
       " ('beijin', 'bi'): 'DEL n',\n",
       " ('beijin', 'bie'): 'SUB n=>e',\n",
       " ('beijin', 'biej'): 'DEL n',\n",
       " ('beijin', 'bieji'): 'DEL n',\n",
       " ('beijin', 'biejie'): 'SUB n=>e',\n",
       " ('beijing', 'b'): 'DEL g',\n",
       " ('beijing', 'bi'): 'DEL g',\n",
       " ('beijing', 'bie'): 'SUB g=>e',\n",
       " ('beijing', 'biej'): 'DEL g',\n",
       " ('beijing', 'bieji'): 'DEL g',\n",
       " ('beijing', 'biejie'): 'SUB g=>e'}"
      ]
     },
     "execution_count": 177,
     "metadata": {},
     "output_type": "execute_result"
    }
   ],
   "source": [
    "solution"
   ]
  },
  {
   "cell_type": "code",
   "execution_count": 178,
   "metadata": {},
   "outputs": [],
   "source": [
    "operation_list = []\n",
    "def parse_solution(string1,string2,solution):\n",
    "    \n",
    "    if string1 == string2: \n",
    "        return operation_list\n",
    "    if len(string1) == 0: \n",
    "        return operation_list.append('ADD {}'.format(string1))\n",
    "    if len(string2) == 0: \n",
    "        return operation_list.append('DEL {}'.format(string2))\n",
    "    \n",
    "    operation = solution[(string1,string2)]\n",
    "    if operation != 'None': operation_list.append(operation)\n",
    "    \n",
    "    if 'DEL' in operation:\n",
    "        string1 = string1[:-1]\n",
    "    elif 'ADD' in operation:\n",
    "        string2 = string2[:-1]\n",
    "    else:\n",
    "        string1=string1[:-1]\n",
    "        string2=string2[:-1]\n",
    "    \n",
    "    return parse_solution(string1,string2,solution)"
   ]
  },
  {
   "cell_type": "code",
   "execution_count": 179,
   "metadata": {},
   "outputs": [
    {
     "data": {
      "text/plain": [
       "['SUB g=>e', 'DEL n', 'DEL i', 'ADD i']"
      ]
     },
     "execution_count": 179,
     "metadata": {},
     "output_type": "execute_result"
    }
   ],
   "source": [
    "parse_solution('beijing','biejie',solution)"
   ]
  },
  {
   "cell_type": "markdown",
   "metadata": {},
   "source": [
    "# Travelling salesman problem"
   ]
  },
  {
   "cell_type": "markdown",
   "metadata": {},
   "source": [
    "Given a list of cities and the distances between each pair of cities, what is the shortest possible route that visits each city and returns to the origin city?"
   ]
  },
  {
   "cell_type": "code",
   "execution_count": 659,
   "metadata": {},
   "outputs": [
    {
     "name": "stdout",
     "output_type": "stream",
     "text": [
      "   p_x  p_y\n",
      "0   -6   87\n",
      "1   59   89\n",
      "2  -67   97\n",
      "3   87   56\n"
     ]
    }
   ],
   "source": [
    "import random\n",
    "import matplotlib.pylab as plt\n",
    "import pandas as pd\n",
    "\n",
    "p_x = [random.randint(-100, 100) for _ in range(4)]\n",
    "p_y = [random.randint(-100, 100) for _ in range(4)]\n",
    "\n",
    "global df_points\n",
    "df_points = pd.DataFrame()\n",
    "df_points['p_x'] = p_x\n",
    "df_points['p_y'] = p_y\n",
    "\n",
    "#plt.scatter(p_x,p_y)\n",
    "#plt.plot()\n",
    "\n",
    "print(df_points)\n"
   ]
  },
  {
   "cell_type": "code",
   "execution_count": 711,
   "metadata": {},
   "outputs": [],
   "source": [
    "import math\n",
    "\n",
    "def distance(x,y):\n",
    "    return math.sqrt((x[0]-x[1])**2 + (y[0]-y[1])**2)\n",
    "solution = {}\n",
    "\n",
    "#@lru_cache(maxsize = 2**10)\n",
    "def travel1(start, points):\n",
    "    #print('round:',start, tuple(points.index))\n",
    "    if len(points) == 1: \n",
    "        return distance(start, [points.iat[0,0],points.iat[0,1]])\n",
    "    \n",
    "    min_distance = float(\"inf\")\n",
    "    \n",
    "    for i in points.index:\n",
    "        candidate = [travel1([points.loc[i][0],points.loc[i][1]], points.drop(index = i))+ distance(start,[points.loc[i][0],points.loc[i][1]]),i,tuple(points.drop(index = i).index)] \n",
    "        if candidate[0]< min_distance: \n",
    "            min_distance = candidate[0]\n",
    "            solution[(candidate[1], candidate[2])] = min_distance \n",
    "        #print(candidate)\n",
    "    return min_distance\n",
    "    "
   ]
  },
  {
   "cell_type": "code",
   "execution_count": 712,
   "metadata": {},
   "outputs": [
    {
     "data": {
      "text/plain": [
       "25.0"
      ]
     },
     "execution_count": 712,
     "metadata": {},
     "output_type": "execute_result"
    }
   ],
   "source": [
    "distance([0,0],[29,4])"
   ]
  },
  {
   "cell_type": "code",
   "execution_count": 713,
   "metadata": {
    "scrolled": true
   },
   "outputs": [
    {
     "data": {
      "text/plain": [
       "359.70373328079165"
      ]
     },
     "execution_count": 713,
     "metadata": {},
     "output_type": "execute_result"
    }
   ],
   "source": [
    "travel1([0,0], df_points)"
   ]
  },
  {
   "cell_type": "code",
   "execution_count": 715,
   "metadata": {},
   "outputs": [
    {
     "data": {
      "text/plain": [
       "{(0, (1,)): 286.25280144473993,\n",
       " (0, (1, 2)): 362.4709166855732,\n",
       " (0, (1, 2, 3)): 400.7624581878748,\n",
       " (0, (1, 3)): 329.3921106649859,\n",
       " (0, (2,)): 286.25280144473993,\n",
       " (0, (2, 3)): 362.6537564328486,\n",
       " (0, (3,)): 195.74959231463373,\n",
       " (1, (0,)): 264.4403092203534,\n",
       " (1, (0, 2)): 329.3921106649859,\n",
       " (1, (0, 2, 3)): 359.70373328079165,\n",
       " (1, (0, 3)): 307.8912410564052,\n",
       " (1, (2,)): 264.4403092203534,\n",
       " (1, (2, 3)): 307.7624581878748,\n",
       " (1, (3,)): 140.85829406965996,\n",
       " (2, (3,)): 355.4379807135408,\n",
       " (3, (0,)): 141.16991668546575,\n",
       " (3, (0, 1)): 307.7624581878748,\n",
       " (3, (0, 2)): 329.70373328079165,\n",
       " (3, (2,)): 264.9347715834346}"
      ]
     },
     "execution_count": 715,
     "metadata": {},
     "output_type": "execute_result"
    }
   ],
   "source": [
    "solution"
   ]
  },
  {
   "cell_type": "code",
   "execution_count": 776,
   "metadata": {},
   "outputs": [],
   "source": [
    "\n",
    "def parse_solution(solution,min_distance):\n",
    "    paths = []\n",
    "    to_be_visited, others  = list(solution.keys())[list(solution.values()).index(min_distance)]\n",
    "    paths.append(to_be_visited)\n",
    "    while len(paths) < max([len(i[1]) for i in solution]):\n",
    "        candidate = []\n",
    "        for i in solution:\n",
    "            if set(tuple([i[0]]) + i[1]) == set(others):\n",
    "                candidate.append([i[0],i[1],solution[i]])\n",
    "        print(candidate)\n",
    "        to_be_visited,others,distance  = min(candidate, key =lambda x:x[2])\n",
    "        paths.append(to_be_visited)\n",
    "        print(others)\n",
    "    paths.append(others[0]) \n",
    "    return paths"
   ]
  },
  {
   "cell_type": "code",
   "execution_count": 777,
   "metadata": {},
   "outputs": [
    {
     "name": "stdout",
     "output_type": "stream",
     "text": [
      "[[0, (2, 3), 362.6537564328486], [3, (0, 2), 329.70373328079165]]\n",
      "(0, 2)\n",
      "[[0, (2,), 286.25280144473993]]\n",
      "(2,)\n"
     ]
    },
    {
     "data": {
      "text/plain": [
       "[1, 3, 0, 2]"
      ]
     },
     "execution_count": 777,
     "metadata": {},
     "output_type": "execute_result"
    }
   ],
   "source": [
    "parse_solution(solution,travel1([0,0], df_points))"
   ]
  },
  {
   "cell_type": "code",
   "execution_count": 772,
   "metadata": {},
   "outputs": [
    {
     "data": {
      "text/html": [
       "<div>\n",
       "<style scoped>\n",
       "    .dataframe tbody tr th:only-of-type {\n",
       "        vertical-align: middle;\n",
       "    }\n",
       "\n",
       "    .dataframe tbody tr th {\n",
       "        vertical-align: top;\n",
       "    }\n",
       "\n",
       "    .dataframe thead th {\n",
       "        text-align: right;\n",
       "    }\n",
       "</style>\n",
       "<table border=\"1\" class=\"dataframe\">\n",
       "  <thead>\n",
       "    <tr style=\"text-align: right;\">\n",
       "      <th></th>\n",
       "      <th>p_x</th>\n",
       "      <th>p_y</th>\n",
       "    </tr>\n",
       "  </thead>\n",
       "  <tbody>\n",
       "    <tr>\n",
       "      <th>0</th>\n",
       "      <td>-6</td>\n",
       "      <td>87</td>\n",
       "    </tr>\n",
       "    <tr>\n",
       "      <th>1</th>\n",
       "      <td>59</td>\n",
       "      <td>89</td>\n",
       "    </tr>\n",
       "    <tr>\n",
       "      <th>2</th>\n",
       "      <td>-67</td>\n",
       "      <td>97</td>\n",
       "    </tr>\n",
       "    <tr>\n",
       "      <th>3</th>\n",
       "      <td>87</td>\n",
       "      <td>56</td>\n",
       "    </tr>\n",
       "  </tbody>\n",
       "</table>\n",
       "</div>"
      ],
      "text/plain": [
       "   p_x  p_y\n",
       "0   -6   87\n",
       "1   59   89\n",
       "2  -67   97\n",
       "3   87   56"
      ]
     },
     "execution_count": 772,
     "metadata": {},
     "output_type": "execute_result"
    }
   ],
   "source": [
    "df_points"
   ]
  },
  {
   "cell_type": "code",
   "execution_count": 778,
   "metadata": {},
   "outputs": [
    {
     "data": {
      "text/plain": [
       "359.70373328079165"
      ]
     },
     "execution_count": 778,
     "metadata": {},
     "output_type": "execute_result"
    }
   ],
   "source": [
    "distance([0,0], [59,89])+ distance([59,89], [87,56]) + distance([87,56], [-6,87])+ distance([-6,87], [-67,97])"
   ]
  },
  {
   "cell_type": "code",
   "execution_count": null,
   "metadata": {},
   "outputs": [],
   "source": []
  }
 ],
 "metadata": {
  "kernelspec": {
   "display_name": "Python 3",
   "language": "python",
   "name": "python3"
  },
  "language_info": {
   "codemirror_mode": {
    "name": "ipython",
    "version": 3
   },
   "file_extension": ".py",
   "mimetype": "text/x-python",
   "name": "python",
   "nbconvert_exporter": "python",
   "pygments_lexer": "ipython3",
   "version": "3.5.4"
  }
 },
 "nbformat": 4,
 "nbformat_minor": 2
}
